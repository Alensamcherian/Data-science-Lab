{
 "cells": [
  {
   "cell_type": "code",
   "execution_count": 5,
   "id": "53af3235",
   "metadata": {},
   "outputs": [
    {
     "name": "stdout",
     "output_type": "stream",
     "text": [
      "Enter the number of rows:2\n",
      "Enter the number of columns:2\n",
      "Enter the entries in a single line (separated by space): \n",
      "1 2 3 4\n",
      "[[1 2]\n",
      " [3 4]]\n",
      "Enter the number of rows:2\n",
      "Enter the number of columns:2\n",
      "Enter the entries in a single line (separated by space): \n",
      "9 8 7 6\n",
      "[[9 8]\n",
      " [7 6]]\n",
      "Dot Product\n",
      "[[23 20]\n",
      " [55 48]]\n"
     ]
    }
   ],
   "source": [
    "import numpy as np\n",
    "  \n",
    "R = int(input(\"Enter the number of rows:\"))\n",
    "C = int(input(\"Enter the number of columns:\"))  \n",
    "print(\"Enter the entries in a single line (separated by space): \")\n",
    "entries = list(map(int, input().split()))\n",
    "m1 = np.array(entries).reshape(R, C)\n",
    "print(m1)\n",
    "  \n",
    "P = int(input(\"Enter the number of rows:\"))\n",
    "Q = int(input(\"Enter the number of columns:\"))  \n",
    "print(\"Enter the entries in a single line (separated by space): \")\n",
    "entries = list(map(int, input().split()))\n",
    "m2 = np.array(entries).reshape(P, Q)\n",
    "print(m2)\n",
    "print(\"Dot Product\")\n",
    "d=np.dot(m1,m2)\n",
    "print(d)\n"
   ]
  },
  {
   "cell_type": "code",
   "execution_count": 6,
   "id": "47f283f3",
   "metadata": {},
   "outputs": [
    {
     "name": "stdout",
     "output_type": "stream",
     "text": [
      "Enter the number of rows:2\n",
      "Enter the number of columns:2\n",
      "Enter the entries in a single line (separated by space): \n",
      "1 23 5 6\n",
      "[[ 1 23]\n",
      " [ 5  6]]\n",
      "[[ 1  5]\n",
      " [23  6]]\n"
     ]
    }
   ],
   "source": [
    "import numpy as np\n",
    "  \n",
    "R = int(input(\"Enter the number of rows:\"))\n",
    "C = int(input(\"Enter the number of columns:\"))  \n",
    "print(\"Enter the entries in a single line (separated by space): \")\n",
    "entries = list(map(int, input().split()))\n",
    "m1 = np.array(entries).reshape(R, C)\n",
    "print(m1)\n",
    "transpose=m1.transpose()\n",
    "print(transpose)\n"
   ]
  },
  {
   "cell_type": "code",
   "execution_count": 7,
   "id": "fcc5fd0e",
   "metadata": {},
   "outputs": [
    {
     "name": "stdout",
     "output_type": "stream",
     "text": [
      "Enter the number of rows:2\n",
      "Enter the number of columns:2\n",
      "Enter the entries in a single line (separated by space): \n",
      "1 25 65 89\n",
      "[[ 1 25]\n",
      " [65 89]]\n",
      "90\n"
     ]
    }
   ],
   "source": [
    "import numpy as np\n",
    "  \n",
    "R = int(input(\"Enter the number of rows:\"))\n",
    "C = int(input(\"Enter the number of columns:\"))  \n",
    "print(\"Enter the entries in a single line (separated by space): \")\n",
    "entries = list(map(int, input().split()))\n",
    "m1 = np.array(entries).reshape(R, C)\n",
    "print(m1)\n",
    "trace=m1.trace()\n",
    "print(trace)"
   ]
  },
  {
   "cell_type": "code",
   "execution_count": 8,
   "id": "03468ac3",
   "metadata": {},
   "outputs": [
    {
     "name": "stdout",
     "output_type": "stream",
     "text": [
      "Enter the number of rows:2\n",
      "Enter the number of columns:2\n",
      "Enter the entries in a single line (separated by space): \n",
      "14 25 36 87\n",
      "[[14 25]\n",
      " [36 87]]\n",
      "Rank of the matrix: 2\n"
     ]
    }
   ],
   "source": [
    "import numpy as np\n",
    "  \n",
    "R = int(input(\"Enter the number of rows:\"))\n",
    "C = int(input(\"Enter the number of columns:\"))  \n",
    "print(\"Enter the entries in a single line (separated by space): \")\n",
    "entries = list(map(int, input().split()))\n",
    "m1 = np.array(entries).reshape(R, C)\n",
    "print(m1)\n",
    "print(\"Rank of the matrix:\",np.linalg.matrix_rank(m1))"
   ]
  },
  {
   "cell_type": "code",
   "execution_count": 10,
   "id": "7362ab7f",
   "metadata": {},
   "outputs": [
    {
     "name": "stdout",
     "output_type": "stream",
     "text": [
      "Enter the number of rows:2\n",
      "Enter the number of columns:2\n",
      "Enter the entries in a single line (separated by space): \n",
      "12 23 56 89\n",
      "[[12 23]\n",
      " [56 89]]\n",
      "determinant of the matrix is:\n",
      "-220.00000000000009\n"
     ]
    }
   ],
   "source": [
    "import numpy as np\n",
    "  \n",
    "R = int(input(\"Enter the number of rows:\"))\n",
    "C = int(input(\"Enter the number of columns:\"))  \n",
    "print(\"Enter the entries in a single line (separated by space): \")\n",
    "entries = list(map(int, input().split()))\n",
    "m1 = np.array(entries).reshape(R, C)\n",
    "print(m1)\n",
    "print(\"determinant of the matrix is:\")\n",
    "print(np.linalg.det(m1))"
   ]
  },
  {
   "cell_type": "code",
   "execution_count": 12,
   "id": "85993490",
   "metadata": {},
   "outputs": [
    {
     "name": "stdout",
     "output_type": "stream",
     "text": [
      "Enter the number of rows:2\n",
      "Enter the number of columns:2\n",
      "Enter the entries in a single line (separated by space): \n",
      "12 78 56 54\n",
      "[[12 78]\n",
      " [56 54]]\n",
      "inverse of the matrix is:\n",
      "[[-0.01451613  0.02096774]\n",
      " [ 0.01505376 -0.00322581]]\n"
     ]
    }
   ],
   "source": [
    "import numpy as np\n",
    "  \n",
    "R = int(input(\"Enter the number of rows:\"))\n",
    "C = int(input(\"Enter the number of columns:\"))  \n",
    "print(\"Enter the entries in a single line (separated by space): \")\n",
    "entries = list(map(int, input().split()))\n",
    "m1 = np.array(entries).reshape(R, C)\n",
    "print(m1)\n",
    "print(\"inverse of the matrix is:\")\n",
    "print(np.linalg.inv(m1))"
   ]
  },
  {
   "cell_type": "code",
   "execution_count": 16,
   "id": "7bb61cf2",
   "metadata": {},
   "outputs": [
    {
     "name": "stdout",
     "output_type": "stream",
     "text": [
      "Enter the number of rows:2\n",
      "Enter the number of columns:2\n",
      "Enter the entries in a single line (separated by space): \n",
      "12 58 31 57\n",
      "[[12 58]\n",
      " [31 57]]\n",
      "eigen values and eigen vectors of the matrix are:\n",
      "(array([-13.5026041,  82.5026041]), array([[-0.91541622, -0.63530923],\n",
      "       [ 0.40250857, -0.77225785]]))\n"
     ]
    }
   ],
   "source": [
    "import numpy as np\n",
    "  \n",
    "R = int(input(\"Enter the number of rows:\"))\n",
    "C = int(input(\"Enter the number of columns:\"))  \n",
    "print(\"Enter the entries in a single line (separated by space): \")\n",
    "entries = list(map(int, input().split()))\n",
    "m1 = np.array(entries).reshape(R, C)\n",
    "print(m1)\n",
    "print(\"eigen values and eigen vectors of the matrix are:\")\n",
    "print(np.linalg.eig(m1))"
   ]
  },
  {
   "cell_type": "code",
   "execution_count": null,
   "id": "02ec3dcc",
   "metadata": {},
   "outputs": [],
   "source": []
  }
 ],
 "metadata": {
  "kernelspec": {
   "display_name": "Python 3 (ipykernel)",
   "language": "python",
   "name": "python3"
  },
  "language_info": {
   "codemirror_mode": {
    "name": "ipython",
    "version": 3
   },
   "file_extension": ".py",
   "mimetype": "text/x-python",
   "name": "python",
   "nbconvert_exporter": "python",
   "pygments_lexer": "ipython3",
   "version": "3.9.7"
  }
 },
 "nbformat": 4,
 "nbformat_minor": 5
}
