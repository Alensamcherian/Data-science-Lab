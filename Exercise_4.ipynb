{
 "cells": [
  {
   "cell_type": "code",
   "execution_count": 2,
   "id": "ab73255f",
   "metadata": {},
   "outputs": [
    {
     "name": "stdout",
     "output_type": "stream",
     "text": [
      "0    [11, 21, 31]\n",
      "1    [43, 54, 66]\n",
      "2    [59, 60, 78]\n",
      "3    [90, 91, 92]\n",
      "dtype: object\n"
     ]
    }
   ],
   "source": [
    "import pandas as pd\n",
    "data = [[11, 21, 31], [43, 54, 66], [59, 60, 78], [90, 91, 92]]\n",
    " \n",
    "s = pd.Series(data)\n",
    "print(s)"
   ]
  },
  {
   "cell_type": "code",
   "execution_count": 4,
   "id": "33ecb937",
   "metadata": {},
   "outputs": [
    {
     "name": "stdout",
     "output_type": "stream",
     "text": [
      "DatetimeIndex(['2021-05-01', '2021-05-02', '2021-05-03', '2021-05-04',\n",
      "               '2021-05-05', '2021-05-06', '2021-05-07', '2021-05-08',\n",
      "               '2021-05-09', '2021-05-10', '2021-05-11', '2021-05-12'],\n",
      "              dtype='datetime64[ns]', freq='D')\n"
     ]
    }
   ],
   "source": [
    "import pandas as pd\n",
    "date=pd.date_range(start='05.01.2021',end='05.12.2021')\n",
    "print(date)"
   ]
  },
  {
   "cell_type": "code",
   "execution_count": 9,
   "id": "6aa962fb",
   "metadata": {},
   "outputs": [
    {
     "name": "stdout",
     "output_type": "stream",
     "text": [
      "        Name  Age University\n",
      "0     Sruthi   23        BHU\n",
      "1  Aishwarya   21        JNU\n",
      "2    Shaurya   22         DU\n",
      "3   Shivangi   21        BHU\n"
     ]
    }
   ],
   "source": [
    "import pandas as pd\n",
    "details= {\n",
    "    'Name' : ['Sruthi', 'Aishwarya', 'Shaurya', 'Shivangi'],\n",
    "    'Age' : [23, 21, 22, 21],\n",
    "    'University' : ['BHU', 'JNU', 'DU', 'BHU']\n",
    "}\n",
    "df = pd.DataFrame(details)\n",
    "print(df)  "
   ]
  },
  {
   "cell_type": "code",
   "execution_count": 14,
   "id": "c5d53e85",
   "metadata": {},
   "outputs": [
    {
     "name": "stdout",
     "output_type": "stream",
     "text": [
      "                  0               1         2        3\n",
      "0  New York Yankees    Acevedo Juan    900000  Pitcher\n",
      "1  New York Yankees  Anderson Jason    300000  Pitcher\n",
      "2  New York Yankees   Clemens Roger  10100000  Pitcher\n",
      "3  New York Yankees  Contreras Jose   5500000  Pitcher\n"
     ]
    }
   ],
   "source": [
    "import pandas as pd\n",
    "\n",
    "data = [['New York Yankees', 'Acevedo Juan', 900000, 'Pitcher'], \n",
    "        ['New York Yankees', 'Anderson Jason', 300000, 'Pitcher'], \n",
    "        ['New York Yankees', 'Clemens Roger', 10100000, 'Pitcher'], \n",
    "        ['New York Yankees', 'Contreras Jose', 5500000, 'Pitcher']]\n",
    "\n",
    "df = pd.DataFrame.from_records(data)\n",
    "print(df)"
   ]
  },
  {
   "cell_type": "code",
   "execution_count": 17,
   "id": "01c8b050",
   "metadata": {},
   "outputs": [
    {
     "name": "stdout",
     "output_type": "stream",
     "text": [
      "      Waterfalls        District\n",
      "0     soochipara          idukki\n",
      "1      anchuruli         kottyam\n",
      "2  aanayadikuthu  pathanamthitta\n"
     ]
    }
   ],
   "source": [
    "import pandas as pdf\n",
    "df=pd.read_csv('ex_4.csv')\n",
    "print(df)"
   ]
  },
  {
   "cell_type": "code",
   "execution_count": 21,
   "id": "720614eb",
   "metadata": {},
   "outputs": [
    {
     "name": "stdout",
     "output_type": "stream",
     "text": [
      "      Name  Age University\n",
      "0   Sruthi   23         ku\n",
      "1  Sindhya   22        ktu\n",
      "2  Subadra   21      cusat\n",
      "3    MEGHA   20         mg\n",
      "SORTED DATAFRAME\n",
      "      Name  Age University\n",
      "3    MEGHA   20         mg\n",
      "2  Subadra   21      cusat\n",
      "1  Sindhya   22        ktu\n",
      "0   Sruthi   23         ku\n"
     ]
    }
   ],
   "source": [
    "import pandas as pd\n",
    "details= {\n",
    "    'Name' : ['Sruthi', 'Sindhya', 'Subadra', 'MEGHA'],\n",
    "    'Age' : [23, 22, 21, 20],\n",
    "    'University' : ['ku', 'ktu', 'cusat', 'mg']\n",
    "}\n",
    "df = pd.DataFrame(details)\n",
    "print(df)\n",
    "print('SORTED DATAFRAME')\n",
    "print(df.sort_values(by=['Age'], ascending=True))\n"
   ]
  },
  {
   "cell_type": "code",
   "execution_count": 2,
   "id": "5db7135d",
   "metadata": {},
   "outputs": [
    {
     "name": "stdout",
     "output_type": "stream",
     "text": [
      "  index     Name  Age University\n",
      "0     c   Sruthi   23         ku\n",
      "1     b  Sindhya   22        ktu\n",
      "2     a  Subadra   21      cusat\n",
      "3     d    MEGHA   20         mg\n"
     ]
    }
   ],
   "source": [
    "import pandas as pd\n",
    "details= {\n",
    "    'Name' : ['Sruthi', 'Sindhya', 'Subadra', 'MEGHA'],\n",
    "    'Age' : [23, 22, 21, 20],\n",
    "    'University' : ['ku', 'ktu', 'cusat', 'mg']\n",
    "}\n",
    "index = {'a', 'b', 'c', 'd'}\n",
    "df = pd.DataFrame(details, index)\n",
    "df.reset_index(inplace = True)\n",
    "print(df)\n"
   ]
  },
  {
   "cell_type": "code",
   "execution_count": 32,
   "id": "09bde09e",
   "metadata": {},
   "outputs": [
    {
     "name": "stdout",
     "output_type": "stream",
     "text": [
      "      Name  Age University\n",
      "0   Sruthi   23         ku\n",
      "1  Sindhya   22        ktu\n"
     ]
    }
   ],
   "source": [
    "import pandas as pd\n",
    "details= {\n",
    "    'Name' : ['Sruthi', 'Sindhya', 'Subadra', 'MEGHA'],\n",
    "    'Age' : [23, 22, 21, 20],\n",
    "    'University' : ['ku', 'ktu', 'cusat', 'mg']\n",
    "}\n",
    "df=pd.DataFrame(details)\n",
    "df1 = df.head(2)\n",
    "print(df1)"
   ]
  },
  {
   "cell_type": "code",
   "execution_count": 37,
   "id": "7b4d7743",
   "metadata": {},
   "outputs": [
    {
     "name": "stdout",
     "output_type": "stream",
     "text": [
      "       Name Occupation  Salary\n",
      "0     Surya    Teacher   20000\n",
      "1  Theertha   Engineer   34000\n",
      "2   Vaishak   Engineer   45000\n",
      "3   Fathima    Teacher   45555\n",
      "Occupation\n",
      "Engineer    39500.0\n",
      "Teacher     32777.5\n",
      "Name: Salary, dtype: float64\n"
     ]
    }
   ],
   "source": [
    "import pandas as pd\n",
    "data= {\n",
    "    'Name' : ['Surya','Theertha','Vaishak','Fathima'],\n",
    "    'Occupation':['Teacher','Engineer','Engineer','Teacher'],\n",
    "    'Salary':[20000,34000,45000,45555]\n",
    "}\n",
    "df=pd.DataFrame(data)\n",
    "print(df)\n",
    "Salary_average= df.groupby('Occupation')['Salary'].mean() \n",
    "\n",
    "print(Salary_average)\n"
   ]
  },
  {
   "cell_type": "code",
   "execution_count": 43,
   "id": "fa66f99d",
   "metadata": {},
   "outputs": [
    {
     "name": "stdout",
     "output_type": "stream",
     "text": [
      "       Name  Id  Phone Number\n",
      "0     Surya   1           NaN\n",
      "1  Theertha   2    90742767.0\n",
      "2   Vaishak   3   673378732.0\n",
      "3   Fathima   4           NaN\n",
      "       Name  Id  Phone Number\n",
      "0     Surya   1           0.0\n",
      "1  Theertha   2    90742767.0\n",
      "2   Vaishak   3   673378732.0\n",
      "3   Fathima   4           0.0\n"
     ]
    }
   ],
   "source": [
    "import pandas as pd\n",
    "import numpy as np\n",
    "data= {\n",
    "    'Name' : ['Surya','Theertha','Vaishak','Fathima'],\n",
    "    'Id' : [1,2,3,4],\n",
    "    'Phone Number':[np.nan,90742767,673378732,np.nan]\n",
    "}\n",
    "df=pd.DataFrame(data)\n",
    "print(df) \n",
    "\n",
    "\n",
    "\n",
    "df_nullfill = df.fillna(0)\n",
    "\n",
    "print(df_nullfill)"
   ]
  },
  {
   "cell_type": "code",
   "execution_count": 3,
   "id": "c43458e1",
   "metadata": {},
   "outputs": [
    {
     "name": "stdout",
     "output_type": "stream",
     "text": [
      "       cname   profit\n",
      "0      Wipro  1000000\n",
      "1  Cognizant  2000000\n",
      "2    Mphasis   -31110\n",
      "3        UST   -43000\n",
      "\n",
      "\n",
      "       cname  profit\n",
      "0      Wipro    True\n",
      "1  Cognizant    True\n",
      "2    Mphasis   False\n",
      "3        UST   False\n"
     ]
    }
   ],
   "source": [
    "import pandas as pd\n",
    "import numpy as np\n",
    "data= {\n",
    "    'cname' : ['Wipro','Cognizant','Mphasis','UST'],\n",
    "    'profit' : [1000000,2000000,-31110,-43000]\n",
    "}\n",
    "df=pd.DataFrame(data)\n",
    "print(df)\n",
    "print()\n",
    "print()\n",
    "df['profit'] = df['profit'].apply(lambda x:x>0)\n",
    "print(df)"
   ]
  },
  {
   "cell_type": "code",
   "execution_count": 4,
   "id": "965c0c26",
   "metadata": {},
   "outputs": [
    {
     "name": "stdout",
     "output_type": "stream",
     "text": [
      "    eid  ename  stipend\n",
      "0  1001    Anu    10000\n",
      "1  1002   Anju    20000\n",
      "2  1003  Anand    13000\n",
      "3  1004    Ali    15000\n",
      "\n",
      "\n",
      "    eid     designation\n",
      "0  1001  senior manager\n",
      "1  1002   sales manager\n",
      "2  1003         manager\n",
      "3  1004           clerk\n",
      "\n",
      "\n",
      "    eid  ename  stipend     designation\n",
      "0  1001    Anu    10000  senior manager\n",
      "1  1002   Anju    20000   sales manager\n",
      "2  1003  Anand    13000         manager\n",
      "3  1004    Ali    15000           clerk\n"
     ]
    }
   ],
   "source": [
    "import pandas as pd\n",
    "import numpy as np\n",
    "data1= {\n",
    "    'eid' : [1001,1002,1003,1004],\n",
    "    'ename' : ['Anu','Anju','Anand','Ali'],\n",
    "    'stipend' : [10000,20000,13000,15000]\n",
    "}\n",
    "data2= {\n",
    "    'eid' : [1001,1002,1003,1004],\n",
    "    'designation' : ['senior manager','sales manager','manager','clerk']\n",
    "}\n",
    "df1=pd.DataFrame(data1)\n",
    "df2=pd.DataFrame(data2)\n",
    "print(df1)\n",
    "print()\n",
    "print()\n",
    "print(df2)\n",
    "print()\n",
    "print()\n",
    "dataframe = pd.merge(df1, df2, how = 'inner', on = 'eid')\n",
    "print(dataframe)"
   ]
  },
  {
   "cell_type": "code",
   "execution_count": null,
   "id": "245129e1",
   "metadata": {},
   "outputs": [],
   "source": []
  }
 ],
 "metadata": {
  "kernelspec": {
   "display_name": "Python 3 (ipykernel)",
   "language": "python",
   "name": "python3"
  },
  "language_info": {
   "codemirror_mode": {
    "name": "ipython",
    "version": 3
   },
   "file_extension": ".py",
   "mimetype": "text/x-python",
   "name": "python",
   "nbconvert_exporter": "python",
   "pygments_lexer": "ipython3",
   "version": "3.9.7"
  }
 },
 "nbformat": 4,
 "nbformat_minor": 5
}
